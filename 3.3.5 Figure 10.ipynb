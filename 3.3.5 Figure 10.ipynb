{
 "cells": [
  {
   "cell_type": "markdown",
   "id": "066c7f7f",
   "metadata": {},
   "source": [
    "# 目的：通过三个最活跃用户在五个不同场所类别的签入频率，预测用户签入偏好"
   ]
  },
  {
   "cell_type": "code",
   "execution_count": 20,
   "id": "03890847",
   "metadata": {},
   "outputs": [],
   "source": [
    "import pandas as pd\n",
    "import numpy as np\n",
    "import matplotlib.pyplot as plt"
   ]
  },
  {
   "cell_type": "markdown",
   "id": "5f0b0a4d",
   "metadata": {},
   "source": [
    "# 导入数据集"
   ]
  },
  {
   "cell_type": "code",
   "execution_count": 21,
   "id": "6217d353",
   "metadata": {},
   "outputs": [],
   "source": [
    "df = pd.read_csv(\"C:/Users/lx/Desktop/Low-MScThesis/BAReport - Dataset/foursquare-nyc-and-tokyo-check-ins/dataset_TSMC2014_TKY.csv\")"
   ]
  },
  {
   "cell_type": "markdown",
   "id": "56a3ac0b",
   "metadata": {},
   "source": [
    "# 统计分析"
   ]
  },
  {
   "cell_type": "code",
   "execution_count": 22,
   "id": "434818bb",
   "metadata": {},
   "outputs": [],
   "source": [
    "df1 = df"
   ]
  },
  {
   "cell_type": "markdown",
   "id": "b412e0b7",
   "metadata": {},
   "source": [
    "将数据集中三个用户的数据分别提取出来"
   ]
  },
  {
   "cell_type": "code",
   "execution_count": 23,
   "id": "ce553fea",
   "metadata": {},
   "outputs": [],
   "source": [
    "df1_1 = df1.drop(index=(df1.loc[(df['userId']!= 1240)].index))\n",
    "df1_2 = df1.drop(index=(df1.loc[(df['userId']!= 822)].index))\n",
    "df1_3 = df1.drop(index=(df1.loc[(df['userId']!= 1143)].index))"
   ]
  },
  {
   "cell_type": "code",
   "execution_count": 24,
   "id": "cc65d9e9",
   "metadata": {},
   "outputs": [
    {
     "data": {
      "text/html": [
       "<div>\n",
       "<style scoped>\n",
       "    .dataframe tbody tr th:only-of-type {\n",
       "        vertical-align: middle;\n",
       "    }\n",
       "\n",
       "    .dataframe tbody tr th {\n",
       "        vertical-align: top;\n",
       "    }\n",
       "\n",
       "    .dataframe thead th {\n",
       "        text-align: right;\n",
       "    }\n",
       "</style>\n",
       "<table border=\"1\" class=\"dataframe\">\n",
       "  <thead>\n",
       "    <tr style=\"text-align: right;\">\n",
       "      <th></th>\n",
       "      <th>userId</th>\n",
       "      <th>venueId</th>\n",
       "      <th>venueCategoryId</th>\n",
       "      <th>venueCategory</th>\n",
       "      <th>latitude</th>\n",
       "      <th>longitude</th>\n",
       "      <th>timezoneOffset</th>\n",
       "      <th>utcTimestamp</th>\n",
       "    </tr>\n",
       "  </thead>\n",
       "  <tbody>\n",
       "    <tr>\n",
       "      <th>28</th>\n",
       "      <td>1240</td>\n",
       "      <td>4c21de7c9a67a593f285db87</td>\n",
       "      <td>4d954b0ea243a5684a65b473</td>\n",
       "      <td>Convenience Store</td>\n",
       "      <td>35.578777</td>\n",
       "      <td>139.734069</td>\n",
       "      <td>540</td>\n",
       "      <td>Tue Apr 03 20:55:16 +0000 2012</td>\n",
       "    </tr>\n",
       "    <tr>\n",
       "      <th>2057</th>\n",
       "      <td>1240</td>\n",
       "      <td>4bbc34fcafe1b713222e304b</td>\n",
       "      <td>4bf58dd8d48988d10a951735</td>\n",
       "      <td>Bank</td>\n",
       "      <td>35.562724</td>\n",
       "      <td>139.717501</td>\n",
       "      <td>540</td>\n",
       "      <td>Wed Apr 04 07:27:29 +0000 2012</td>\n",
       "    </tr>\n",
       "    <tr>\n",
       "      <th>2120</th>\n",
       "      <td>1240</td>\n",
       "      <td>4c21de7c9a67a593f285db87</td>\n",
       "      <td>4d954b0ea243a5684a65b473</td>\n",
       "      <td>Convenience Store</td>\n",
       "      <td>35.578777</td>\n",
       "      <td>139.734069</td>\n",
       "      <td>540</td>\n",
       "      <td>Wed Apr 04 07:43:09 +0000 2012</td>\n",
       "    </tr>\n",
       "    <tr>\n",
       "      <th>3745</th>\n",
       "      <td>1240</td>\n",
       "      <td>4cb2a1a81463a1432adeaea9</td>\n",
       "      <td>4bf58dd8d48988d1e1931735</td>\n",
       "      <td>Arcade</td>\n",
       "      <td>35.562344</td>\n",
       "      <td>139.713788</td>\n",
       "      <td>540</td>\n",
       "      <td>Wed Apr 04 13:20:04 +0000 2012</td>\n",
       "    </tr>\n",
       "    <tr>\n",
       "      <th>6220</th>\n",
       "      <td>1240</td>\n",
       "      <td>4b598c34f964a520f78b28e3</td>\n",
       "      <td>4bf58dd8d48988d1e1931735</td>\n",
       "      <td>Arcade</td>\n",
       "      <td>35.699037</td>\n",
       "      <td>139.770863</td>\n",
       "      <td>540</td>\n",
       "      <td>Sat Apr 07 12:38:31 +0000 2012</td>\n",
       "    </tr>\n",
       "  </tbody>\n",
       "</table>\n",
       "</div>"
      ],
      "text/plain": [
       "      userId                   venueId           venueCategoryId  \\\n",
       "28      1240  4c21de7c9a67a593f285db87  4d954b0ea243a5684a65b473   \n",
       "2057    1240  4bbc34fcafe1b713222e304b  4bf58dd8d48988d10a951735   \n",
       "2120    1240  4c21de7c9a67a593f285db87  4d954b0ea243a5684a65b473   \n",
       "3745    1240  4cb2a1a81463a1432adeaea9  4bf58dd8d48988d1e1931735   \n",
       "6220    1240  4b598c34f964a520f78b28e3  4bf58dd8d48988d1e1931735   \n",
       "\n",
       "          venueCategory   latitude   longitude  timezoneOffset  \\\n",
       "28    Convenience Store  35.578777  139.734069             540   \n",
       "2057               Bank  35.562724  139.717501             540   \n",
       "2120  Convenience Store  35.578777  139.734069             540   \n",
       "3745             Arcade  35.562344  139.713788             540   \n",
       "6220             Arcade  35.699037  139.770863             540   \n",
       "\n",
       "                        utcTimestamp  \n",
       "28    Tue Apr 03 20:55:16 +0000 2012  \n",
       "2057  Wed Apr 04 07:27:29 +0000 2012  \n",
       "2120  Wed Apr 04 07:43:09 +0000 2012  \n",
       "3745  Wed Apr 04 13:20:04 +0000 2012  \n",
       "6220  Sat Apr 07 12:38:31 +0000 2012  "
      ]
     },
     "execution_count": 24,
     "metadata": {},
     "output_type": "execute_result"
    }
   ],
   "source": [
    "df1_1.head()"
   ]
  },
  {
   "cell_type": "code",
   "execution_count": 25,
   "id": "b47680b1",
   "metadata": {},
   "outputs": [
    {
     "data": {
      "text/html": [
       "<div>\n",
       "<style scoped>\n",
       "    .dataframe tbody tr th:only-of-type {\n",
       "        vertical-align: middle;\n",
       "    }\n",
       "\n",
       "    .dataframe tbody tr th {\n",
       "        vertical-align: top;\n",
       "    }\n",
       "\n",
       "    .dataframe thead th {\n",
       "        text-align: right;\n",
       "    }\n",
       "</style>\n",
       "<table border=\"1\" class=\"dataframe\">\n",
       "  <thead>\n",
       "    <tr style=\"text-align: right;\">\n",
       "      <th></th>\n",
       "      <th>userId</th>\n",
       "      <th>venueId</th>\n",
       "      <th>venueCategoryId</th>\n",
       "      <th>venueCategory</th>\n",
       "      <th>latitude</th>\n",
       "      <th>longitude</th>\n",
       "      <th>timezoneOffset</th>\n",
       "      <th>utcTimestamp</th>\n",
       "    </tr>\n",
       "  </thead>\n",
       "  <tbody>\n",
       "    <tr>\n",
       "      <th>329</th>\n",
       "      <td>822</td>\n",
       "      <td>4b4d45eff964a520d7cf26e3</td>\n",
       "      <td>4bf58dd8d48988d129951735</td>\n",
       "      <td>Train Station</td>\n",
       "      <td>35.560684</td>\n",
       "      <td>139.723730</td>\n",
       "      <td>540</td>\n",
       "      <td>Tue Apr 03 23:11:45 +0000 2012</td>\n",
       "    </tr>\n",
       "    <tr>\n",
       "      <th>374</th>\n",
       "      <td>822</td>\n",
       "      <td>4bb53d352ea195216e3baa2f</td>\n",
       "      <td>4bf58dd8d48988d1df941735</td>\n",
       "      <td>Bridge</td>\n",
       "      <td>35.536766</td>\n",
       "      <td>139.702878</td>\n",
       "      <td>540</td>\n",
       "      <td>Tue Apr 03 23:20:05 +0000 2012</td>\n",
       "    </tr>\n",
       "    <tr>\n",
       "      <th>383</th>\n",
       "      <td>822</td>\n",
       "      <td>4b56345ff964a520330528e3</td>\n",
       "      <td>4bf58dd8d48988d129951735</td>\n",
       "      <td>Train Station</td>\n",
       "      <td>35.532754</td>\n",
       "      <td>139.700743</td>\n",
       "      <td>540</td>\n",
       "      <td>Tue Apr 03 23:20:54 +0000 2012</td>\n",
       "    </tr>\n",
       "    <tr>\n",
       "      <th>410</th>\n",
       "      <td>822</td>\n",
       "      <td>4b274cf5f964a520bf8524e3</td>\n",
       "      <td>4bf58dd8d48988d129951735</td>\n",
       "      <td>Train Station</td>\n",
       "      <td>35.531327</td>\n",
       "      <td>139.696902</td>\n",
       "      <td>540</td>\n",
       "      <td>Tue Apr 03 23:26:49 +0000 2012</td>\n",
       "    </tr>\n",
       "    <tr>\n",
       "      <th>420</th>\n",
       "      <td>822</td>\n",
       "      <td>4b974a9cf964a52091fe34e3</td>\n",
       "      <td>4bf58dd8d48988d129951735</td>\n",
       "      <td>Train Station</td>\n",
       "      <td>35.531536</td>\n",
       "      <td>139.696752</td>\n",
       "      <td>540</td>\n",
       "      <td>Tue Apr 03 23:28:05 +0000 2012</td>\n",
       "    </tr>\n",
       "  </tbody>\n",
       "</table>\n",
       "</div>"
      ],
      "text/plain": [
       "     userId                   venueId           venueCategoryId  \\\n",
       "329     822  4b4d45eff964a520d7cf26e3  4bf58dd8d48988d129951735   \n",
       "374     822  4bb53d352ea195216e3baa2f  4bf58dd8d48988d1df941735   \n",
       "383     822  4b56345ff964a520330528e3  4bf58dd8d48988d129951735   \n",
       "410     822  4b274cf5f964a520bf8524e3  4bf58dd8d48988d129951735   \n",
       "420     822  4b974a9cf964a52091fe34e3  4bf58dd8d48988d129951735   \n",
       "\n",
       "     venueCategory   latitude   longitude  timezoneOffset  \\\n",
       "329  Train Station  35.560684  139.723730             540   \n",
       "374         Bridge  35.536766  139.702878             540   \n",
       "383  Train Station  35.532754  139.700743             540   \n",
       "410  Train Station  35.531327  139.696902             540   \n",
       "420  Train Station  35.531536  139.696752             540   \n",
       "\n",
       "                       utcTimestamp  \n",
       "329  Tue Apr 03 23:11:45 +0000 2012  \n",
       "374  Tue Apr 03 23:20:05 +0000 2012  \n",
       "383  Tue Apr 03 23:20:54 +0000 2012  \n",
       "410  Tue Apr 03 23:26:49 +0000 2012  \n",
       "420  Tue Apr 03 23:28:05 +0000 2012  "
      ]
     },
     "execution_count": 25,
     "metadata": {},
     "output_type": "execute_result"
    }
   ],
   "source": [
    "df1_2.head()"
   ]
  },
  {
   "cell_type": "code",
   "execution_count": 26,
   "id": "0047808b",
   "metadata": {},
   "outputs": [
    {
     "data": {
      "text/html": [
       "<div>\n",
       "<style scoped>\n",
       "    .dataframe tbody tr th:only-of-type {\n",
       "        vertical-align: middle;\n",
       "    }\n",
       "\n",
       "    .dataframe tbody tr th {\n",
       "        vertical-align: top;\n",
       "    }\n",
       "\n",
       "    .dataframe thead th {\n",
       "        text-align: right;\n",
       "    }\n",
       "</style>\n",
       "<table border=\"1\" class=\"dataframe\">\n",
       "  <thead>\n",
       "    <tr style=\"text-align: right;\">\n",
       "      <th></th>\n",
       "      <th>userId</th>\n",
       "      <th>venueId</th>\n",
       "      <th>venueCategoryId</th>\n",
       "      <th>venueCategory</th>\n",
       "      <th>latitude</th>\n",
       "      <th>longitude</th>\n",
       "      <th>timezoneOffset</th>\n",
       "      <th>utcTimestamp</th>\n",
       "    </tr>\n",
       "  </thead>\n",
       "  <tbody>\n",
       "    <tr>\n",
       "      <th>38</th>\n",
       "      <td>1143</td>\n",
       "      <td>4b564827f964a5201f0928e3</td>\n",
       "      <td>4bf58dd8d48988d129951735</td>\n",
       "      <td>Train Station</td>\n",
       "      <td>35.772100</td>\n",
       "      <td>139.519898</td>\n",
       "      <td>540</td>\n",
       "      <td>Tue Apr 03 21:18:21 +0000 2012</td>\n",
       "    </tr>\n",
       "    <tr>\n",
       "      <th>64</th>\n",
       "      <td>1143</td>\n",
       "      <td>4b6e3e46f964a520e2b32ce3</td>\n",
       "      <td>4bf58dd8d48988d129951735</td>\n",
       "      <td>Train Station</td>\n",
       "      <td>35.729025</td>\n",
       "      <td>139.711096</td>\n",
       "      <td>540</td>\n",
       "      <td>Tue Apr 03 21:51:29 +0000 2012</td>\n",
       "    </tr>\n",
       "    <tr>\n",
       "      <th>65</th>\n",
       "      <td>1143</td>\n",
       "      <td>4b7481e1f964a520bde02de3</td>\n",
       "      <td>4bf58dd8d48988d1fd931735</td>\n",
       "      <td>Subway</td>\n",
       "      <td>35.730273</td>\n",
       "      <td>139.711378</td>\n",
       "      <td>540</td>\n",
       "      <td>Tue Apr 03 21:52:17 +0000 2012</td>\n",
       "    </tr>\n",
       "    <tr>\n",
       "      <th>124</th>\n",
       "      <td>1143</td>\n",
       "      <td>4d5255a107b1a0905233123c</td>\n",
       "      <td>4d954b0ea243a5684a65b473</td>\n",
       "      <td>Convenience Store</td>\n",
       "      <td>35.673203</td>\n",
       "      <td>139.760468</td>\n",
       "      <td>540</td>\n",
       "      <td>Tue Apr 03 22:21:12 +0000 2012</td>\n",
       "    </tr>\n",
       "    <tr>\n",
       "      <th>134</th>\n",
       "      <td>1143</td>\n",
       "      <td>4c96f8a2533aa093e95ad645</td>\n",
       "      <td>4bf58dd8d48988d124941735</td>\n",
       "      <td>Office</td>\n",
       "      <td>35.673047</td>\n",
       "      <td>139.759923</td>\n",
       "      <td>540</td>\n",
       "      <td>Tue Apr 03 22:23:37 +0000 2012</td>\n",
       "    </tr>\n",
       "  </tbody>\n",
       "</table>\n",
       "</div>"
      ],
      "text/plain": [
       "     userId                   venueId           venueCategoryId  \\\n",
       "38     1143  4b564827f964a5201f0928e3  4bf58dd8d48988d129951735   \n",
       "64     1143  4b6e3e46f964a520e2b32ce3  4bf58dd8d48988d129951735   \n",
       "65     1143  4b7481e1f964a520bde02de3  4bf58dd8d48988d1fd931735   \n",
       "124    1143  4d5255a107b1a0905233123c  4d954b0ea243a5684a65b473   \n",
       "134    1143  4c96f8a2533aa093e95ad645  4bf58dd8d48988d124941735   \n",
       "\n",
       "         venueCategory   latitude   longitude  timezoneOffset  \\\n",
       "38       Train Station  35.772100  139.519898             540   \n",
       "64       Train Station  35.729025  139.711096             540   \n",
       "65              Subway  35.730273  139.711378             540   \n",
       "124  Convenience Store  35.673203  139.760468             540   \n",
       "134             Office  35.673047  139.759923             540   \n",
       "\n",
       "                       utcTimestamp  \n",
       "38   Tue Apr 03 21:18:21 +0000 2012  \n",
       "64   Tue Apr 03 21:51:29 +0000 2012  \n",
       "65   Tue Apr 03 21:52:17 +0000 2012  \n",
       "124  Tue Apr 03 22:21:12 +0000 2012  \n",
       "134  Tue Apr 03 22:23:37 +0000 2012  "
      ]
     },
     "execution_count": 26,
     "metadata": {},
     "output_type": "execute_result"
    }
   ],
   "source": [
    "df1_3.head()"
   ]
  },
  {
   "cell_type": "markdown",
   "id": "43fd7597",
   "metadata": {},
   "source": [
    "将三个数据集中的场所列项提取出来"
   ]
  },
  {
   "cell_type": "code",
   "execution_count": 27,
   "id": "b7637497",
   "metadata": {},
   "outputs": [],
   "source": [
    "df2_1 = df1_1['venueCategory']\n",
    "df2_2 = df1_2['venueCategory']\n",
    "df2_3 = df1_3['venueCategory']"
   ]
  },
  {
   "cell_type": "markdown",
   "id": "72360bc0",
   "metadata": {},
   "source": [
    "对数据集中的场所签入频率进行数量统计"
   ]
  },
  {
   "cell_type": "code",
   "execution_count": 28,
   "id": "893cc119",
   "metadata": {},
   "outputs": [
    {
     "name": "stdout",
     "output_type": "stream",
     "text": [
      "Convenience Store              81\n",
      "Bank                            1\n",
      "Arcade                        116\n",
      "Train Station                1286\n",
      "Bookstore                      12\n",
      "Clothing Store                  4\n",
      "Hobby Shop                     11\n",
      "Ramen /  Noodle House          14\n",
      "Bar                            37\n",
      "Camera Store                    2\n",
      "Subway                         40\n",
      "Electronics Store              38\n",
      "Chinese Restaurant              3\n",
      "Japanese Restaurant            13\n",
      "Café                            4\n",
      "Restaurant                     11\n",
      "Italian Restaurant              4\n",
      "Department Store                1\n",
      "Parking                         1\n",
      "Bridge                          8\n",
      "Miscellaneous Shop              2\n",
      "Indian Restaurant               3\n",
      "Historic Site                   4\n",
      "Bus Station                    29\n",
      "Medical Center                  3\n",
      "Fast Food Restaurant           16\n",
      "Road                            5\n",
      "Donut Shop                      5\n",
      "Fair                            3\n",
      "Convention Center              12\n",
      "Mall                            3\n",
      "Park                            5\n",
      "Light Rail                      4\n",
      "Smoke Shop                      1\n",
      "Fried Chicken Joint             2\n",
      "Coffee Shop                     5\n",
      "Event Space                     2\n",
      "History Museum                  1\n",
      "Government Building             1\n",
      "Diner                           1\n",
      "Tapas Restaurant                1\n",
      "Toy / Game Store                3\n",
      "Concert Hall                    1\n",
      "General Entertainment          40\n",
      "Burger Joint                    2\n",
      "General Travel                  1\n",
      "Seafood Restaurant              2\n",
      "Art Gallery                     1\n",
      "Video Store                     3\n",
      "Food & Drink Shop               1\n",
      "Military Base                  18\n",
      "Arts & Crafts Store             1\n",
      "Video Game Store                1\n",
      "Scenic Lookout                  1\n",
      "Middle Eastern Restaurant       1\n",
      "Name: venueCategory, dtype: int64\n",
      "Train Station            1049\n",
      "Bridge                     32\n",
      "Mall                      198\n",
      "Arcade                     44\n",
      "Electronics Store          43\n",
      "                         ... \n",
      "Italian Restaurant          2\n",
      "Outdoors & Recreation       1\n",
      "Music Store                 1\n",
      "Dessert Shop                1\n",
      "Spiritual Center            1\n",
      "Name: venueCategory, Length: 64, dtype: int64\n",
      "Train Station                    410\n",
      "Subway                           396\n",
      "Convenience Store                200\n",
      "Office                           167\n",
      "Building                          70\n",
      "Road                             120\n",
      "Bar                                9\n",
      "Food & Drink Shop                153\n",
      "Furniture / Home Store             5\n",
      "Miscellaneous Shop               136\n",
      "Hotel                              2\n",
      "Nightlife Spot                     1\n",
      "Library                           16\n",
      "Clothing Store                     4\n",
      "Hobby Shop                         4\n",
      "Electronics Store                  8\n",
      "Shop & Service                     2\n",
      "Professional & Other Places       12\n",
      "Bakery                             3\n",
      "Bookstore                         26\n",
      "Japanese Restaurant                6\n",
      "Department Store                   4\n",
      "Sporting Goods Shop                5\n",
      "Mall                               7\n",
      "Car Dealership                     1\n",
      "Drugstore / Pharmacy               4\n",
      "Restaurant                         2\n",
      "Dessert Shop                       2\n",
      "Medical Center                    21\n",
      "Steakhouse                         1\n",
      "BBQ Joint                          1\n",
      "Ramen /  Noodle House              4\n",
      "Ice Cream Shop                     3\n",
      "Bus Station                        2\n",
      "Pet Store                          1\n",
      "Coffee Shop                        2\n",
      "Fast Food Restaurant               3\n",
      "Airport                            1\n",
      "Light Rail                         4\n",
      "Salon / Barbershop                 2\n",
      "Government Building                1\n",
      "Park                               2\n",
      "Gas Station / Garage               1\n",
      "Convention Center                  1\n",
      "Bike Shop                          3\n",
      "Paper / Office Supplies Store      1\n",
      "Church                             1\n",
      "Sushi Restaurant                   1\n",
      "Café                               1\n",
      "General Entertainment              1\n",
      "Gym / Fitness Center               3\n",
      "Name: venueCategory, dtype: int64\n"
     ]
    }
   ],
   "source": [
    "df3_1 = df2_1.value_counts(sort=False)\n",
    "df3_2 = df2_2.value_counts(sort=False)\n",
    "df3_3 = df2_3.value_counts(sort=False)\n",
    "print(df2_1.value_counts(sort=False))\n",
    "print(df2_2.value_counts(sort=False))\n",
    "print(df2_3.value_counts(sort=False))"
   ]
  },
  {
   "cell_type": "markdown",
   "id": "41a86bef",
   "metadata": {},
   "source": [
    "计算出五个不同场所的签入频率，并放入列表中"
   ]
  },
  {
   "cell_type": "code",
   "execution_count": 29,
   "id": "2128de59",
   "metadata": {},
   "outputs": [],
   "source": [
    "def list_total(df1,df2,list_t): \n",
    "    dfn_1 = dict(df1.count())\n",
    "    dfn_2 = list(dfn_1.values())\n",
    "    t1 = dfn_2[0]\n",
    "    df_t = dict(df2)\n",
    "    i1 = df_t.get('Train Station')\n",
    "    i2 = df_t.get('Convenience Store')\n",
    "    i3 = df_t.get('Subway')\n",
    "    i4 = df_t.get('Food & Drink Shop')\n",
    "    i5 = df_t.get('Bar')\n",
    "    list_t.append(i1/t1)\n",
    "    list_t.append(i2/t1)\n",
    "    list_t.append(i3/t1)\n",
    "    list_t.append(i4/t1)\n",
    "    list_t.append(i5/t1)\n",
    "    return list_t"
   ]
  },
  {
   "cell_type": "markdown",
   "id": "973ed6f3",
   "metadata": {},
   "source": [
    "将三个用户的数据集分别传入自定义函数中"
   ]
  },
  {
   "cell_type": "code",
   "execution_count": 30,
   "id": "04b91486",
   "metadata": {},
   "outputs": [
    {
     "data": {
      "text/plain": [
       "[0.6873329770176376,\n",
       " 0.0432923570283271,\n",
       " 0.021378941742383754,\n",
       " 0.0005344735435595938,\n",
       " 0.01977552111170497]"
      ]
     },
     "execution_count": 30,
     "metadata": {},
     "output_type": "execute_result"
    }
   ],
   "source": [
    "df4_1 = []\n",
    "df4_1 = list_total(df1_1,df3_1,df4_1)\n",
    "df4_1"
   ]
  },
  {
   "cell_type": "code",
   "execution_count": 31,
   "id": "70b009fc",
   "metadata": {},
   "outputs": [
    {
     "data": {
      "text/plain": [
       "[0.3507188231360749,\n",
       " 0.11334002006018054,\n",
       " 0.003343363423604146,\n",
       " 0.023737880307589436,\n",
       " 0.0504847876964226]"
      ]
     },
     "execution_count": 31,
     "metadata": {},
     "output_type": "execute_result"
    }
   ],
   "source": [
    "df4_2 = []\n",
    "df4_2 = list_total(df1_2,df3_2,df4_2)\n",
    "df4_2"
   ]
  },
  {
   "cell_type": "code",
   "execution_count": 32,
   "id": "92d17683",
   "metadata": {},
   "outputs": [
    {
     "data": {
      "text/plain": [
       "[0.2233115468409586,\n",
       " 0.10893246187363835,\n",
       " 0.21568627450980393,\n",
       " 0.08333333333333333,\n",
       " 0.004901960784313725]"
      ]
     },
     "execution_count": 32,
     "metadata": {},
     "output_type": "execute_result"
    }
   ],
   "source": [
    "df4_3 = []\n",
    "df4_3 = list_total(df1_3,df3_3,df4_3)\n",
    "df4_3"
   ]
  },
  {
   "cell_type": "markdown",
   "id": "6abe621f",
   "metadata": {},
   "source": [
    "# 作出图表"
   ]
  },
  {
   "cell_type": "code",
   "execution_count": 33,
   "id": "a5380622",
   "metadata": {},
   "outputs": [
    {
     "data": {
      "image/png": "[encoded data removed]",
      "text/plain": [
       "<Figure size 3600x2100 with 1 Axes>"
      ]
     },
     "metadata": {
      "needs_background": "light"
     },
     "output_type": "display_data"
    }
   ],
   "source": [
    "size = 5\n",
    "x= np.arange(size)\n",
    "total_width,n = 0.6, 3\n",
    "width = total_width / n\n",
    "x = x-(total_width - width)/2\n",
    "plt.bar(x,df4_1,label='1240',width = width)\n",
    "plt.bar(x+width,df4_2,label='822',width = width)\n",
    "plt.bar(x+2*width,df4_3,label='1143',width = width)\n",
    "plt.ylabel('Proportion of Total Check-Ins')\n",
    "x1 = ['Train Station','Convenience Store','Subway','Food & Drink Shop','Bar']\n",
    "x2 = range(5)\n",
    "plt.xticks(x2,x1)\n",
    "plt.title('Different Preferred Categories of Top 3 Active Foursquare Users')\n",
    "plt.rcParams['figure.figsize']=(12.0,7.0)\n",
    "plt.rcParams['savefig.dpi'] = 300\n",
    "plt.rcParams['figure.dpi'] = 300\n",
    "plt.legend()\n",
    "plt.show()"
   ]
  },
  {
   "cell_type": "markdown",
   "id": "ae0d6693",
   "metadata": {},
   "source": [
    "# 结果分析：图中描述了三个最活跃用户在五个不同场所类别的签入频率。用户1240是一名重型列车用户（近70%的签入在火车站），几乎不乘坐地铁。另一名用户1143经常乘坐地铁和火车，比其他两名用户更频繁地光顾餐饮店。显然，每个用户都显示出不同的签入偏好，个人用户的偏好可以高度预测下一个签入地点。"
   ]
  },
  {
   "cell_type": "code",
   "execution_count": null,
   "id": "f9a6ac20",
   "metadata": {},
   "outputs": [],
   "source": []
  }
 ],
 "metadata": {
  "kernelspec": {
   "display_name": "Python 3 (ipykernel)",
   "language": "python",
   "name": "python3"
  },
  "language_info": {
   "codemirror_mode": {
    "name": "ipython",
    "version": 3
   },
   "file_extension": ".py",
   "mimetype": "text/x-python",
   "name": "python",
   "nbconvert_exporter": "python",
   "pygments_lexer": "ipython3",
   "version": "3.9.12"
  }
 },
 "nbformat": 4,
 "nbformat_minor": 5
}
